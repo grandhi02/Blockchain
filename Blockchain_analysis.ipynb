{
 "cells": [
  {
   "cell_type": "code",
   "execution_count": 7,
   "id": "fa964fa5-5515-4656-b667-7a4e75c1d901",
   "metadata": {},
   "outputs": [
    {
     "name": "stdout",
     "output_type": "stream",
     "text": [
      "Connected to Ethereum\n"
     ]
    }
   ],
   "source": [
    "from web3 import Web3\n",
    "import pandas as pd\n",
    "import matplotlib.pyplot as plt\n",
    "\n",
    "# Connect to Ethereum network (Infura or local node)\n",
    "infura_url = \"https://mainnet.infura.io/v3/eth_network\"\n",
    "web3 = Web3(Web3.HTTPProvider(infura_url))\n",
    "\n",
    "# Check if connected\n",
    "if web3.is_connected():\n",
    "    print(\"Connected to Ethereum\")\n",
    "else:\n",
    "    print(\"Failed to connect to Ethereum\")\n"
   ]
  },
  {
   "cell_type": "code",
   "execution_count": 5,
   "id": "ad2d3654-e7ac-4341-bf98-2216028561bc",
   "metadata": {},
   "outputs": [
    {
     "data": {
      "text/plain": [
       "True"
      ]
     },
     "execution_count": 5,
     "metadata": {},
     "output_type": "execute_result"
    }
   ],
   "source": [
    "web3.is_connected()"
   ]
  },
  {
   "cell_type": "code",
   "execution_count": 8,
   "id": "226c85f7-7ee1-4776-b0f6-e2254404d372",
   "metadata": {},
   "outputs": [],
   "source": [
    "def get_wallet_balance(address):\n",
    "    # Get the balance of the wallet in Wei (Ethereum's base unit)\n",
    "    balance = web3.eth.get_balance(address)\n",
    "    # Convert balance to Ether\n",
    "    balance_in_ether = web3.fromWei(balance, 'ether')\n",
    "    return balance_in_ether\n",
    "\n",
    "def get_transactions(address, start_block=0, end_block='latest', max_tx=10):\n",
    "    # Get a list of transactions from the address within a block range\n",
    "    transactions = []\n",
    "    \n",
    "    # Retrieve block range\n",
    "    end_block = web3.eth.block_number if end_block == 'latest' else end_block\n",
    "    for block_number in range(start_block, end_block):\n",
    "        block = web3.eth.get_block(block_number, full_transactions=True)\n",
    "        for tx in block.transactions:\n",
    "            if tx['from'].lower() == address.lower() or tx['to'].lower() == address.lower():\n",
    "                transactions.append(tx)\n",
    "                if len(transactions) >= max_tx:\n",
    "                    break\n",
    "        if len(transactions) >= max_tx:\n",
    "            break\n",
    "    return transactions\n",
    "\n",
    "def get_gas_data(transactions):\n",
    "    gas_data = []\n",
    "    for tx in transactions:\n",
    "        gas_used = tx['gas']\n",
    "        gas_price = tx['gasPrice']\n",
    "        gas_cost = web3.fromWei(gas_used * gas_price, 'ether')\n",
    "        gas_data.append(gas_cost)\n",
    "    return gas_data\n"
   ]
  },
  {
   "cell_type": "code",
   "execution_count": 9,
   "id": "a556fcc3-f4a6-462e-a4d6-cb7eea710bb4",
   "metadata": {},
   "outputs": [],
   "source": [
    "def analyze_transactions(transactions):\n",
    "    # Analyze basic transaction data (count, total gas usage, etc.)\n",
    "    tx_count = len(transactions)\n",
    "    gas_data = get_gas_data(transactions)\n",
    "    total_gas_used = sum(gas_data)\n",
    "    \n",
    "    print(f\"Total Transactions: {tx_count}\")\n",
    "    print(f\"Total Gas Used: {total_gas_used} ETH\")\n",
    "    \n",
    "    return tx_count, total_gas_used\n",
    "\n",
    "def analyze_balance(address):\n",
    "    balance = get_wallet_balance(address)\n",
    "    print(f\"Wallet Balance: {balance} ETH\")\n",
    "    return balance\n"
   ]
  },
  {
   "cell_type": "code",
   "execution_count": 10,
   "id": "287af4bb-7e14-42a8-9dcc-abc2e673d55a",
   "metadata": {},
   "outputs": [],
   "source": [
    "def plot_gas_usage(gas_data):\n",
    "    plt.figure(figsize=(10, 5))\n",
    "    plt.plot(gas_data, label='Gas Cost in ETH')\n",
    "    plt.xlabel('Transaction Index')\n",
    "    plt.ylabel('Gas Cost (ETH)')\n",
    "    plt.title('Gas Usage per Transaction')\n",
    "    plt.legend()\n",
    "    plt.show()\n",
    "\n",
    "def plot_transaction_count(tx_count):\n",
    "    plt.figure(figsize=(10, 5))\n",
    "    plt.bar(['Total Transactions'], [tx_count], color='skyblue')\n",
    "    plt.ylabel('Count')\n",
    "    plt.title('Number of Transactions')\n",
    "    plt.show()\n"
   ]
  },
  {
   "cell_type": "code",
   "execution_count": 13,
   "id": "d98a28a2-d881-44c0-b97b-02c52b69ca9d",
   "metadata": {
    "scrolled": true
   },
   "outputs": [],
   "source": [
    "def main():\n",
    "    # Sample wallet address (replace with your own Ethereum wallet address)\n",
    "    wallet_address = \"0xwalletaddress\"\n",
    "\n",
    "    # Fetch transaction data and analyze\n",
    "    print(f\"Analyzing Wallet: {wallet_address}\")\n",
    "    transactions = get_transactions(wallet_address, start_block=13000000, end_block='latest', max_tx=100)\n",
    "    \n",
    "    tx_count, total_gas_used = analyze_transactions(transactions)\n",
    "    balance = analyze_balance(wallet_address)\n",
    "    \n",
    "    # Plot gas usage\n",
    "    gas_data = get_gas_data(transactions)\n",
    "    plot_gas_usage(gas_data)\n",
    "    \n",
    "    # Plot transaction count\n",
    "    plot_transaction_count(tx_count)\n",
    "\n",
    "if __name__ == \"__main__\":\n",
    "    main()\n"
   ]
  }
 ],
 "metadata": {
  "kernelspec": {
   "display_name": "Python 3 (ipykernel)",
   "language": "python",
   "name": "python3"
  },
  "language_info": {
   "codemirror_mode": {
    "name": "ipython",
    "version": 3
   },
   "file_extension": ".py",
   "mimetype": "text/x-python",
   "name": "python",
   "nbconvert_exporter": "python",
   "pygments_lexer": "ipython3",
   "version": "3.13.1"
  }
 },
 "nbformat": 4,
 "nbformat_minor": 5
}
